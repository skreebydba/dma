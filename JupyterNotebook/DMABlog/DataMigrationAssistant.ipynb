{
    "metadata": {
        "kernelspec": {
            "name": "powershell",
            "display_name": "PowerShell"
        },
        "language_info": {
            "name": "powershell",
            "codemirror_mode": "shell",
            "mimetype": "text/x-sh",
            "file_extension": ".ps1"
        }
    },
    "nbformat_minor": 2,
    "nbformat": 4,
    "cells": [
        {
            "cell_type": "markdown",
            "source": [
                "# Chapter 1"
            ],
            "metadata": {
                "azdata_cell_guid": "0e525a5d-ae8a-4c77-b459-4d040a87a9cb"
            }
        },
        {
            "cell_type": "markdown",
            "source": [
                "# Get the Data Migration Assistant\r\nThis code downloads the installation package for the Data Migration Assistant and installs it.  \r\n\r\n"
            ],
            "metadata": {
                "azdata_cell_guid": "51de9799-5c94-4c46-8ca1-8cd206e25d26"
            }
        },
        {
            "cell_type": "code",
            "source": [
                "$url = 'https://www.microsoft.com/en-us/download/confirmation.aspx?id=53595';\r\n",
                "$page = Invoke-WebRequest -Uri $url -UseBasicParsing;\r\n",
                "$titlestart = $page.Content.IndexOf('title') + 6;\r\n",
                "$titleend = $page.Content.IndexOf('</title>');\r\n",
                "$titlelength = $titleend - $titlestart;\r\n",
                "$title = $page.Content.Substring($titlestart,$titlelength);\r\n",
                "$versionstart = $title.IndexOf(' v') + 2;\r\n",
                "$dmaversion = $title.Substring($versionstart, 3);\r\n",
                "\r\n",
                "$InstalledSoftware = Get-ChildItem \"HKLM:\\Software\\Microsoft\\Windows\\CurrentVersion\\Uninstall\"\r\n",
                "foreach($obj in $InstalledSoftware)\r\n",
                "{\r\n",
                "    if($obj.GetValue('DisplayName') -eq 'Microsoft Data Migration Assistant')\r\n",
                "    {\r\n",
                "        $currentversion = $obj.GetValue('DisplayVersion').Substring(0,3);\r\n",
                "    }\r\n",
                "}\r\n",
                "\r\n",
                "if($currentversion -ne $dmaversion)\r\n",
                "{\r\n",
                "    $exists = Test-Path -Path \"C:\\temp\\dma.msi\";\r\n",
                "\r\n",
                "    if($exists)\r\n",
                "    {\r\n",
                "        Remove-Item -Path \"C:\\temp\\dma.msi\";\r\n",
                "    }\r\n",
                "\r\n",
                "    $dmainstall = $page.Links | Where-Object {$_.href -like \"*msi*\"} | Select-Object -ExpandProperty href -First 1;\r\n",
                "\r\n",
                "    Invoke-WebRequest -Uri $dmainstall -OutFile \"C:\\temp\\dma.msi\";\r\n",
                "    Start-Process msiexec.exe -Wait -ArgumentList '/I C:\\temp\\dma.msi /quiet';\r\n",
                "}\r\n",
                "else\r\n",
                "{\r\n",
                "    Write-Output 'Install unnecesssary'\r\n",
                "}\r\n",
                ""
            ],
            "metadata": {
                "azdata_cell_guid": "4dd69096-25d8-4e82-a9fa-c92cd182b977"
            },
            "outputs": [
                {
                    "name": "stdout",
                    "text": "",
                    "output_type": "stream"
                }
            ],
            "execution_count": 1
        },
        {
            "cell_type": "markdown",
            "source": [
                "# Chapter 2"
            ],
            "metadata": {
                "azdata_cell_guid": "8dcb66a9-a369-449c-a612-e951b3739de9"
            }
        },
        {
            "cell_type": "markdown",
            "source": [
                "# Get Data Migration Assistant PowerShell Modules\r\nThis code downloads a .zip file from Microsoft containing the PowerShell modules for DMA.  Once downloaded, it is extracted to folder C:\\Program Files\\WindowsPowerShell\\Modules\\DataMigrationAssistant\r\n\r\n"
            ],
            "metadata": {
                "azdata_cell_guid": "5fca6532-854b-469f-bb27-cffc9b14eb9e"
            }
        },
        {
            "cell_type": "code",
            "source": [
                "$exists = Test-Path -Path \"C:\\Program Files\\WindowsPowerShell\\Modules\\DataMigrationAssistant\";\r\n\r\nif($exists)\r\n{\r\n    Remove-Item -Path \"C:\\Program Files\\WindowsPowerShell\\Modules\\DataMigrationAssistant\" -Recurse;\r\n}\r\n\r\nInvoke-WebRequest -Uri \"https://techcommunity.microsoft.com/gxcuf89792/attachments/gxcuf89792/MicrosoftDataMigration/161/1/PowerShell-Modules2.zip\" -OutFile \"C:\\temp\\dmapowershell.zip\";\r\nNew-Item -Path \"C:\\Program Files\\WindowsPowerShell\\Modules\" -Name DataMigrationAssistant -ItemType Directory;\r\nExpand-Archive -Path \"C:\\temp\\dmapowershell.zip\" -DestinationPath \"C:\\Program Files\\WindowsPowerShell\\Modules\\DataMigrationAssistant\";\r\n"
            ],
            "metadata": {
                "azdata_cell_guid": "57089df5-179f-4357-84bf-1b7e7dccc47f"
            },
            "outputs": [
                {
                    "name": "stdout",
                    "text": "Install unnecesssary\n. {\n>> $exists = Test-Path -Path \"C:\\Program Files\\WindowsPowerShell\\Modules\\DataMigrationAssistant\";\n>> \n>> if($exists)\n>> {\n>>     Remove-Item -Path \"C:\\Program Files\\WindowsPowerShell\\Modules\\DataMigrationAssistant\" -Recurse;\n>> }\n>> \n>> Invoke-WebRequest -Uri \"https://techcommunity.microsoft.com/gxcuf89792/attachments/gxcuf89792/MicrosoftDataMigration/161/1/PowerShell-Modules2.zip\" -OutFile \"C:\\temp\\dmapowershell.zip\";\n>> New-Item -Path \"C:\\Program Files\\WindowsPowerShell\\Modules\" -Name DataMigrationAssistant -ItemType Directory;\n>> Expand-Archive -Path \"C:\\temp\\dmapowershell.zip\" -DestinationPath \"C:\\Program Files\\WindowsPowerShell\\Modules\\DataMigrationAssistant\";\n>> \n>> }\n>> \n",
                    "output_type": "stream"
                }
            ],
            "execution_count": 2
        },
        {
            "cell_type": "markdown",
            "source": [
                "\r\n"
            ],
            "metadata": {
                "azdata_cell_guid": "c21c6b86-5687-4f89-a7dd-6c6449ae8a6c"
            }
        },
        {
            "cell_type": "markdown",
            "source": [
                "# Chapter 3"
            ],
            "metadata": {
                "azdata_cell_guid": "284e50aa-880a-471e-bb51-3c0b37fb0cea"
            }
        },
        {
            "cell_type": "markdown",
            "source": [
                "# Create DMA Inventory Database\r\nCreate a database to hold the inventory of instances and databases to be evaluated by DMA\r\n\r\n"
            ],
            "metadata": {
                "azdata_cell_guid": "7ad96f93-a7dc-42c8-9bc0-e27538bc314c"
            }
        },
        {
            "cell_type": "code",
            "source": [
                "Remove-DbaDatabase -SqlInstance localhost\\dev2017 -Database EstateInventory -Confirm:$false;\r\nNew-DbaDatabase -SqlInstance \"localhost\\dev2017\" -Name EstateInventory;\r\n"
            ],
            "metadata": {
                "azdata_cell_guid": "7bf7b1a2-1900-44f4-b501-3dbacb81aa5f"
            },
            "outputs": [
                {
                    "name": "stdout",
                    "text": "\n\n    Directory: C:\\Program Files\\WindowsPowerShell\\Modules\n\n\nMode                 LastWriteTime         Length Name                                                                 \n----                 -------------         ------ ----                                                                 \nd-----         8/31/2020  10:01 AM                DataMigrationAssistant                                               \n\n\n. {\n>> Remove-DbaDatabase -SqlInstance localhost\\dev2017 -Database EstateInventory -Confirm:$false;\n>> New-DbaData",
                    "output_type": "stream"
                }
            ],
            "execution_count": 3
        },
        {
            "cell_type": "markdown",
            "source": [
                "\r\n"
            ],
            "metadata": {
                "azdata_cell_guid": "521d4893-791b-4048-a5fd-20e278394ee7"
            }
        },
        {
            "cell_type": "markdown",
            "source": [
                "# Chapter 4"
            ],
            "metadata": {
                "azdata_cell_guid": "fae35dc9-6476-49e3-bb1d-8e27581f102e"
            }
        },
        {
            "cell_type": "markdown",
            "source": [
                "# Create Assessment Inventory Table\r\nCreate table to hold the instances and databases to be inventoried. \r\n\r\n"
            ],
            "metadata": {
                "azdata_cell_guid": "2cf3a54e-9163-40e0-a681-a2c77474e388"
            }
        },
        {
            "cell_type": "code",
            "source": [
                "\r\n# Create collection\r\n $cols = @()\r\n # Add columns to collection\r\n $cols += @{\r\n     Name      = 'ServerName'\r\n     Type      = 'SYSNAME'\r\n     Nullable  = $false\r\n }\r\n$cols += @{\r\n     Name      = 'InstanceName'\r\n     Type      = 'SYSNAME'\r\n     Nullable  = $false\r\n }\r\n$cols += @{\r\n     Name      = 'DatabaseName'\r\n     Type      = 'SYSNAME'\r\n     Nullable  = $false\r\n }\r\n$cols += @{\r\n     Name      = 'SqlVersion'\r\n     Type      = 'VARCHAR'\r\n     MaxLength = 30\r\n     Nullable  = $false\r\n }\r\n$cols += @{\r\n     Name      = 'AssessmentFlag'\r\n     Type      = 'CHAR'\r\n     MaxLength = 1\r\n     Nullable  = $false\r\n }\r\n\r\nNew-DbaDbTable -SqlInstance \"localhost\\dev2017\" -Database EstateInventory -Name DatabaseInventory -ColumnMap $cols;\r\n"
            ],
            "metadata": {
                "azdata_cell_guid": "1270f7dd-d9ae-4f8c-94f9-bb2b54bcf9ba"
            },
            "outputs": [
                {
                    "name": "stdout",
                    "text": "\n\nComputerName : DESKTOP-1KGJIH9\nInstanceName : DEV2017\nSqlInstance  : DESKTOP-1KGJIH9\\DEV2017\nDatabase     : EstateInventory\nStatus       : Dropped\n\nComputerName       : DESKTOP-1KGJIH9\nInstanceName       : DEV2017\nSqlInstance        : DESKTOP-1KGJIH9\\DEV2017\nName               : EstateInventory\nStatus             : Normal\nIsAccessible       : True\nRecoveryModel      : Full\nLogReuseWaitStatus : Nothing\nSizeMB             : 16\nCompatibility      : Version140\nCollation          : SQL_Latin1_General_CP1_CI_AS\nOwner              : CONCURRENCY\\fgill\nLastFullBackup     : 1/1/0001 12:00:00 AM\nLastDiffBackup     : 1/1/0001 12:00:00 AM\nLastLogBackup      : 1/1/0001 12:00:00 AM\n\n\n\n. {\n>> \n>> # Create collection\n>>  $cols = @()\n>>  # Add columns to collection\n>>  $cols += @{\n>>      Name      = 'ServerName'\n>>      Type      = 'SYSNAME'\n>>",
                    "output_type": "stream"
                }
            ],
            "execution_count": 4
        },
        {
            "cell_type": "markdown",
            "source": [
                "# Chapter 5"
            ],
            "metadata": {
                "azdata_cell_guid": "edfdb0e0-196c-4e25-99f4-1168f7111376"
            }
        },
        {
            "cell_type": "markdown",
            "source": [
                "# Populate the Assessment Inventory Table\r\nCreate a file called instances.txt in the c:\\temp folder containg the databases to be assessed.  The AssessmentFlag is set to 9 be default. To assess a database, set the AssessmentFlag to 1.\r\n\r\n"
            ],
            "metadata": {
                "azdata_cell_guid": "57eb69c3-df90-4b7d-9b68-ea04713a9ce9"
            }
        },
        {
            "cell_type": "code",
            "source": [
                "$instances = Get-Content -Path C:\\temp\\instances.txt;\r\n$inventoryinstance = \"localhost\\dev2017\";\r\n\r\nforeach($instance in $instances)\r\n{\r\n    $databases = Get-DbaDatabase -SqlInstance $instance -ExcludeSystem;\r\n\r\n    Foreach($database in $databases)\r\n    {\r\n        $dbrow = New-Object -TypeName psobject;\r\n        $dbrow | Add-Member -MemberType NoteProperty -Name ServerName -Value $database.ComputerName;\r\n        $dbrow | Add-Member -MemberType NoteProperty -Name InstanceName -Value $database.InstanceName;\r\n        $dbrow | Add-Member -MemberType NoteProperty -Name DatabaseName -Value $database.Name;\r\n        $dbrow | Add-Member -MemberType NoteProperty -Name SqlVersion -Value $database.Compatibility;\r\n        $dbrow | Add-Member -MemberType NoteProperty -Name AssessmentFlag -Value 0;\r\n        $rowobject = $dbrow | ConvertTo-DbaDataTable;\r\n        Write-DbaDbTableData -SqlInstance $inventoryinstance -Database EstateInventory -Table DatabaseInventory -InputObject $rowobject;\r\n    }\r\n}\r\n"
            ],
            "metadata": {
                "azdata_cell_guid": "366846a0-5bff-4a90-bde1-ffcb02657d32"
            },
            "outputs": [
                {
                    "name": "stdout",
                    "text": "\n\nComputerName          : DESKTOP-1KGJIH9\nInstanceName          : DEV2017\nSqlInstance           : DESKTOP-1KGJIH9\\DEV2017\nDatabase              : EstateInventory\nSchema                : dbo\nName                  : DatabaseInventory\nIndexSpaceUsed        : 0\nDataSpaceUsed         : 0\nRowCount              : 0\nHasClusteredIndex     : False\nIsFileTable           : False\nIsMemoryOptimized     : False\nIsPartitioned         : False\nFullTextIndex         : \nChangeTrackingEnabled : False\n\n\n\n. {\n>> $instances = Get-Content -Path C:\\temp\\instances.txt;\n>> $inventoryinstance = \"localhost\\dev2017\";\n>> \n>> foreach($instance in $instances)\n>> {\n>>     $databases = Get-DbaDatabase -SqlInstance $instance -ExcludeSystem;\n>> \n>>     Foreach($database in $databases)\n>>     {\n>>         $dbrow = New-Object -TypeName psobject;\n>>         $dbrow | Add-Member -MemberType NoteProperty -Name ServerName -Value $database.ComputerName;\n>>         $dbrow | Add-Member -MemberType NoteProperty -Name InstanceName -Value $database.InstanceName;\n>>         $dbrow | Add-Me",
                    "output_type": "stream"
                }
            ],
            "execution_count": 5
        },
        {
            "cell_type": "markdown",
            "source": [
                "# Chapter 6"
            ],
            "metadata": {
                "azdata_cell_guid": "625e1e0f-ecbe-462b-b07c-2d5abf5eb90d"
            }
        },
        {
            "cell_type": "markdown",
            "source": [
                "# Update the AssessmentFlag Column in the DatabaseInventory Table\r\nThe step above sets the AssessmentFlag to 0. To run the DMA against a database, the AssessmentFlag needs to set to 1.  Update the $query variable below to update the flag.\r\n\r\n"
            ],
            "metadata": {
                "azdata_cell_guid": "e383fda3-da84-4867-bfe9-bc76c6d00fc3"
            }
        },
        {
            "cell_type": "code",
            "source": [
                "$query = @\"\r\n",
                "UPDATE DatabaseInventory\r\n",
                "SET AssessmentFlag = 1\r\n",
                "WHERE SqlVersion = 'Version100'\r\n",
                "\"@\r\n",
                "\r\n",
                "Invoke-SqlCmd -ServerInstance $inventoryinstance -Database EstateInventory -Query $query;\r\n",
                ""
            ],
            "metadata": {
                "azdata_cell_guid": "01e72c50-917e-4ea1-9222-a3a241018150"
            },
            "outputs": [
                {
                    "name": "stdout",
                    "text": "",
                    "output_type": "stream"
                }
            ],
            "execution_count": 6
        },
        {
            "cell_type": "markdown",
            "source": [
                "# Chapter 7"
            ],
            "metadata": {
                "azdata_cell_guid": "079aecbf-89ef-4cde-9b09-870d296a1e89"
            }
        },
        {
            "cell_type": "markdown",
            "source": [
                "# Run the Data Migration Assessment\r\nThe Data Migration Assistant will run against all databases with AssessmentFlag set to 1 in the DatabaseInventory table. The process will create a .json file for the assessment in the -OutputLocation path. Valid values for the -TargetPlatform parm are:\r\n* SqlServer2012\r\n* SqlServer2014\r\n* SqlServer2016\r\n* SqlServerWindows2017 \r\n* SqlServerLinux2017\r\n* SqlServerWindows2019\r\n* SqlServerLinux2019 \r\n* AzureSqlDatabase \r\n* ManagedSqlServer\r\n\r\n"
            ],
            "metadata": {
                "azdata_cell_guid": "3b5d6cf1-3be2-4705-a81a-917b01f53d27"
            }
        },
        {
            "cell_type": "code",
            "source": [
                "dmaDataCollector -getServerListFrom SQLServer `\r\n-ServerName 'localhost\\dev2017' `\r\n-DatabaseName EstateInventory `\r\n-AssessmentName AFSDataCollector `\r\n-TargetPlatform SqlServerLinux2019 `\r\n-OutputLocation 'C:\\temp\\Results\\' `\r\n-AuthenticationMethod WindowsAuth;  \r\n"
            ],
            "metadata": {
                "azdata_cell_guid": "0726d3aa-fcc2-4e41-bbe2-0f0e719485aa"
            },
            "outputs": [
                {
                    "name": "stdout",
                    "text": "",
                    "output_type": "stream"
                }
            ],
            "execution_count": 7
        },
        {
            "cell_type": "markdown",
            "source": [
                "\r\n"
            ],
            "metadata": {
                "azdata_cell_guid": "05d4e276-a528-4809-80b4-cedebd30d92c"
            }
        },
        {
            "cell_type": "markdown",
            "source": [
                "# Chapter 8"
            ],
            "metadata": {
                "azdata_cell_guid": "dba00a7b-d418-4112-b72e-035366c889ed"
            }
        },
        {
            "cell_type": "markdown",
            "source": [
                "# Import the DMA Results to the DMAReporting Database\r\nThis code imports the results of the DMA to SQL Server database DMAReporting.\r\n\r\n"
            ],
            "metadata": {
                "azdata_cell_guid": "015a8361-d78e-40ff-96b3-748e2c504e1a"
            }
        },
        {
            "cell_type": "code",
            "source": [
                "dmaProcessor -processTo SQLServer `\r\n-serverName 'localhost\\dev2017' `\r\n-databaseName DMAReporting `\r\n-jsonDirectory 'C:\\temp\\Results\\' `\r\n-CreateDMAReporting 1 `\r\n-CreateDataWarehouse 0; \r\n; \r\n\r\n"
            ],
            "metadata": {
                "azdata_cell_guid": "ece7bcac-26b7-4263-a616-eb8cfc0ffeb9"
            },
            "outputs": [
                {
                    "name": "stdout",
                    "text": "Database DMAReporting already exists\nSequence Object AssessmentUniquifier already exists\nTable ReportData already exists\nTable AzureFeatureParity already exists\nTable BreakingChangeWeighting already exists\nView UpgradeSuccessRanking_OnPrem already exists\nView UpgradeSuccessRanking_Azure already exists\nTable Type JSONResults already exists\nTable Type AzureFeatureParityResults already exists\nStored Procedure JSONNResults_Insert already exists\nStored Procedure AzureFeatureParityResults_Insert already exists\nProcessed directory already exists\nRows Processed for ReportData Table = 1082  Rows processed for AzureFeatureParityTable = 6 for file C:\\temp\\Results\\20200828054259_DMA_Assessment_SqlServerLinux2019.json Total Processing Time = 00:00:00.5819988\nRows Processed for ReportData Table = 600  Rows processed for AzureFeatureParityTable = 4 for file C:\\temp\\Results\\20200831101119_DMA_Assessment_SqlServerLinux2019.json Total Processing Time = 00:00:00.2670029\n. {\n>> dmaProcessor -processTo SQLServer `\n>> -serverName 'localhost\\dev2017' `\n>> -databaseName DMAReporting `\n>> -jsonDirectory 'C:\\temp\\Results\\' `\n>> -CreateDMAReporting 1 `\n>> -CreateDataWarehouse 0; \n>> ; \n>> \n>> \n>> ",
                    "output_type": "stream"
                }
            ],
            "execution_count": 9
        }
    ]
}