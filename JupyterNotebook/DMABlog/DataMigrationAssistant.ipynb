{
    "metadata": {
        "kernelspec": {
            "name": "powershell",
            "display_name": "PowerShell"
        },
        "language_info": {
            "name": "powershell",
            "codemirror_mode": "shell",
            "mimetype": "text/x-sh",
            "file_extension": ".ps1"
        }
    },
    "nbformat_minor": 2,
    "nbformat": 4,
    "cells": [
        {"cell_type":"markdown","metadata":{},"source":["# Chapter 1"]},{"cell_type":"markdown","metadata":{},"source":["# Get the Data Migration Assistant\r\nThis code downloads the installation package for the Data Migration Assistant (DMA) and installs it. \r\n**NOTE: This code is optional. If you have DMA installed, you can check the version manually and download the installer.** \r\n\r\n"]},{
  "cell_type": "code",
  "source": [
    "$url = 'https://www.microsoft.com/en-us/download/confirmation.aspx?id=53595';\r\n$page = Invoke-WebRequest -Uri $url -UseBasicParsing;\r\n$titlestart = $page.Content.IndexOf('title') + 6;\r\n$titleend = $page.Content.IndexOf('</title>');\r\n$titlelength = $titleend - $titlestart;\r\n$title = $page.Content.Substring($titlestart,$titlelength);\r\n$versionstart = $title.IndexOf(' v') + 2;\r\n$dmaversion = $title.Substring($versionstart, 3);\r\n$path = \"C:\\temp\\dma.msi\";\r\n\r\n$InstalledSoftware = Get-ChildItem \"HKLM:\\Software\\Microsoft\\Windows\\CurrentVersion\\Uninstall\"\r\nforeach($obj in $InstalledSoftware)\r\n{\r\n    if($obj.GetValue('DisplayName') -eq 'Microsoft Data Migration Assistant')\r\n    {\r\n        $currentversion = $obj.GetValue('DisplayVersion').Substring(0,3);\r\n    }\r\n}\r\n\r\nif($currentversion -ne $dmaversion)\r\n{\r\n    $exists = Test-Path -Path $path;\r\n\r\n    if($exists)\r\n    {\r\n        Remove-Item -Path $path;\r\n    }\r\n\r\n    $dmainstall = $page.Links | Where-Object {$_.href -like \"*msi*\"} | Select-Object -ExpandProperty href -First 1;\r\n\r\n    Invoke-WebRequest -Uri $dmainstall -OutFile $path;\r\n    $arglist = \"/I $path /quiet\"\r\n    Start-Process msiexec.exe -Wait -ArgumentList $arglist;\r\n}\r\n\r\n"
  ],
  "metadata": {
    "azdata_cell_guid": "c5984a2a-2941-4826-8052-9aa7c7d13961"
  },
  "outputs": [
    {
      "output_type": "stream",
      "name": "stdout",
      "text": ""
    }
  ]
},{"cell_type":"markdown","metadata":{},"source":["<!-- Chapter Start -->\r\n\r\n# Get DMA PowerShell Modules\r\nDownload the DMA PowerShell modules from Microsoft, extract the .zip file, and put the modules into the default PowerShell path.\r\n\r\n"]},{
  "cell_type": "code",
  "source": [
    "$zipexists = Test-Path -Path \"C:\\temp\\dmapowershell.zip\";\r\n$psexists = Test-Path -Path \"C:\\ProgramFiles\\WindowsPowerShell\\Modules\\DataMigrationAssistant\";\r\n\r\nif($zipexists)\r\n{\r\n    Remove-Item -Path \"C:\\temp\\dmapowershell.zip\";\r\n}\r\n\r\nif($psexists)\r\n{\r\n    Remove-Item -Path \"C:\\Program Files\\WindowsPowerShell\\Modules\\DataMigrationAssistant\" -Recurse;\r\n}\r\n\r\nInvoke-WebRequest -Uri \"https://techcommunity.microsoft.com/gxcuf89792/attachments/gxcuf89792/MicrosoftDataMigration/161/1/PowerShell-Modules2.zip\" -OutFile \"C:\\temp\\dmapowershell.zip\";\r\nNew-Item -Path \"C:\\Program Files\\WindowsPowerShell\\Modules\" -Name DataMigrationAssistant -ItemType Directory;\r\nExpand-Archive -Path \"C:\\temp\\dmapowershell.zip\" -DestinationPath \"C:\\Program Files\\WindowsPowerShell\\Modules\\DataMigrationAssistant\";\r\n\r\n$module = \"DBATools\";\r\n$dbatools = Get-Module -Name DBATools -ListAvailable;\r\n\r\nif(!$dbatools)\r\n{\r\n    Write-Output \"Installing\";\r\n    Install-Module -Name $module;\r\n}\r\nelse\r\n{\r\n    Write-Output \"Updating\";\r\n    Update-Module -Name $module;\r\n}\r\n\r\n"
  ],
  "metadata": {
    "azdata_cell_guid": "c7f5627a-9343-4d50-8e99-ecfa0ae3a618"
  },
  "outputs": [
    {
      "output_type": "stream",
      "name": "stdout",
      "text": "Updating\r\n"
    }
  ]
},{"cell_type":"markdown","metadata":{},"source":["\r\n"]},{"cell_type":"markdown","metadata":{},"source":["# Chapter 3"]},{"cell_type":"markdown","metadata":{},"source":["# Create DMA Inventory Database\r\nCreate a database to hold the inventory of instances and databases to be evaluated by DMA\r\n\r\n"]},{
  "cell_type": "code",
  "source": [
    "Remove-DbaDatabase -SqlInstance localhost\\dev2017 -Database EstateInventory -Confirm:$false;\r\nNew-DbaDatabase -SqlInstance \"localhost\\dev2017\" -Name EstateInventory;\r\n"
  ],
  "metadata": {
    "azdata_cell_guid": "7c636b9e-f102-429c-a96a-f76ad3142c5e"
  },
  "outputs": [
    {
      "output_type": "stream",
      "name": "stdout",
      "text": "\r\nComputerName : DESKTOP-1KGJIH9\r\nInstanceName : DEV2017\r\nSqlInstance  : DESKTOP-1KGJIH9\\DEV2017\r\nDatabase     : EstateInventory\r\nStatus       : Dropped\r\n\r\nComputerName       : DESKTOP-1KGJIH9\r\nInstanceName       : DEV2017\r\nSqlInstance        : DESKTOP-1KGJIH9\\DEV2017\r\nName               : EstateInventory\r\nStatus             : Normal\r\nIsAccessible       : True\r\nRecoveryModel      : Full\r\nLogReuseWaitStatus : Nothing\r\nSizeMB             : 16\r\nCompatibility      : Version140\r\nCollation          : SQL_Latin1_General_CP1_CI_AS\r\nOwner              : CONCURRENCY\\fgill\r\nLastFullBackup     : 1/1/0001 12:00:00 AM\r\nLastDiffBackup     : 1/1/0001 12:00:00 AM\r\nLastLogBackup      : 1/1/0001 12:00:00 AM\r\n\r\n\r\n"
    }
  ]
},{"cell_type":"markdown","metadata":{},"source":["\r\n"]},{"cell_type":"markdown","metadata":{},"source":["# Chapter 4"]},{"cell_type":"markdown","metadata":{},"source":["# Create Assessment Inventory Table\r\nCreate table to hold the instances and databases to be inventoried. \r\n\r\n"]},{
  "cell_type": "code",
  "source": [
    "\r\n# Create collection\r\n $cols = @()\r\n # Add columns to collection\r\n $cols += @{\r\n     Name      = 'ServerName'\r\n     Type      = 'SYSNAME'\r\n     Nullable  = $false\r\n }\r\n$cols += @{\r\n     Name      = 'InstanceName'\r\n     Type      = 'SYSNAME'\r\n     Nullable  = $false\r\n }\r\n$cols += @{\r\n     Name      = 'DatabaseName'\r\n     Type      = 'SYSNAME'\r\n     Nullable  = $false\r\n }\r\n$cols += @{\r\n     Name      = 'SqlVersion'\r\n     Type      = 'VARCHAR'\r\n     MaxLength = 30\r\n     Nullable  = $false\r\n }\r\n$cols += @{\r\n     Name      = 'AssessmentFlag'\r\n     Type      = 'CHAR'\r\n     MaxLength = 1\r\n     Nullable  = $false\r\n }\r\n\r\nNew-DbaDbTable -SqlInstance \"localhost\\dev2017\" -Database EstateInventory -Name DatabaseInventory -ColumnMap $cols;\r\n"
  ],
  "metadata": {
    "azdata_cell_guid": "d0efc3aa-ae19-49aa-b212-9472299d3063"
  },
  "outputs": [
    {
      "output_type": "stream",
      "name": "stdout",
      "text": "\r\nComputerName          : DESKTOP-1KGJIH9\r\nInstanceName          : DEV2017\r\nSqlInstance           : DESKTOP-1KGJIH9\\DEV2017\r\nDatabase              : EstateInventory\r\nSchema                : dbo\r\nName                  : DatabaseInventory\r\nIndexSpaceUsed        : 0\r\nDataSpaceUsed         : 0\r\nRowCount              : 0\r\nHasClusteredIndex     : False\r\nIsFileTable           : False\r\nIsMemoryOptimized     : False\r\nIsPartitioned         : False\r\nFullTextIndex         : \r\nChangeTrackingEnabled : False\r\n\r\n\r\n"
    }
  ]
},{"cell_type":"markdown","metadata":{},"source":["# Chapter 5"]},{"cell_type":"markdown","metadata":{},"source":["# Populate the Assessment Inventory Table\r\nCreate a file called instances.txt in the c:\\temp folder containg the databases to be assessed.  The AssessmentFlag is set to 9 be default. To assess a database, set the AssessmentFlag to 1.\r\n\r\n"]},{
  "cell_type": "code",
  "source": [
    "$instances = Get-Content -Path C:\\temp\\instances.txt;\r\n$inventoryinstance = \"localhost\\dev2017\";\r\n\r\nforeach($instance in $instances)\r\n{\r\n    $databases = Get-DbaDatabase -SqlInstance $instance -ExcludeSystem;\r\n\r\n    Foreach($database in $databases)\r\n    {\r\n        $dbrow = New-Object -TypeName psobject;\r\n        $dbrow | Add-Member -MemberType NoteProperty -Name ServerName -Value $database.ComputerName;\r\n        $dbrow | Add-Member -MemberType NoteProperty -Name InstanceName -Value $database.InstanceName;\r\n        $dbrow | Add-Member -MemberType NoteProperty -Name DatabaseName -Value $database.Name;\r\n        $dbrow | Add-Member -MemberType NoteProperty -Name SqlVersion -Value $database.Compatibility;\r\n        $dbrow | Add-Member -MemberType NoteProperty -Name AssessmentFlag -Value 0;\r\n        $rowobject = $dbrow | ConvertTo-DbaDataTable;\r\n        Write-DbaDbTableData -SqlInstance $inventoryinstance -Database EstateInventory -Table DatabaseInventory -InputObject $rowobject;\r\n    }\r\n}\r\n"
  ],
  "metadata": {
    "azdata_cell_guid": "75a7b2c4-a0b6-4901-b735-b5694fd69a51"
  },
  "outputs": [
    {
      "output_type": "stream",
      "name": "stdout",
      "text": ""
    }
  ]
},{"cell_type":"markdown","metadata":{},"source":["# Chapter 6"]},{"cell_type":"markdown","metadata":{},"source":["# Update the AssessmentFlag Column in the DatabaseInventory Table\r\nThe step above sets the AssessmentFlag to 0. To run the DMA against a database, the AssessmentFlag needs to set to 1.  Update the $query variable below to update the flag.\r\n\r\n"]},{
  "cell_type": "code",
  "source": [
    "$query = @\"\r\nUPDATE DatabaseInventory\r\nSET AssessmentFlag = 1\r\n\"@\r\n\r\nInvoke-SqlCmd -ServerInstance $inventoryinstance -Database EstateInventory -Query $query;\r\n"
  ],
  "metadata": {
    "azdata_cell_guid": "9b1eec59-ea8d-4ca4-8137-3b72c75cd27e"
  },
  "outputs": [
    {
      "output_type": "stream",
      "name": "stdout",
      "text": ""
    }
  ]
},{"cell_type":"markdown","metadata":{},"source":["# Chapter 7"]},{"cell_type":"markdown","metadata":{},"source":["# Run the Data Migration Assessment\r\nThe Data Migration Assistant will run against all databases with AssessmentFlag set to 1 in the DatabaseInventory table. The process will create a .json file for the assessment in the -OutputLocation path. Valid values for the -TargetPlatform parm are:\r\n* SqlServer2012\r\n* SqlServer2014\r\n* SqlServer2016\r\n* SqlServerWindows2017 \r\n* SqlServerLinux2017\r\n* SqlServerWindows2019\r\n* SqlServerLinux2019 \r\n* AzureSqlDatabase \r\n* ManagedSqlServer\r\n\r\n"]},{
  "cell_type": "code",
  "source": [
    "dmaDataCollector -getServerListFrom SQLServer `\r\n-ServerName 'localhost\\dev2017' `\r\n-DatabaseName EstateInventory `\r\n-AssessmentName AFSDataCollector `\r\n-TargetPlatform SqlServerLinux2019 `\r\n-OutputLocation 'C:\\temp\\Results\\' `\r\n-AuthenticationMethod WindowsAuth;  \r\n"
  ],
  "metadata": {
    "azdata_cell_guid": "7786b990-2934-426f-9212-d32022632db3"
  },
  "outputs": [
    {
      "output_type": "stream",
      "name": "stdout",
      "text": ""
    }
  ]
},{"cell_type":"markdown","metadata":{},"source":["\r\n"]},{"cell_type":"markdown","metadata":{},"source":["# Chapter 8"]},{"cell_type":"markdown","metadata":{},"source":["# Import the DMA Results to the DMAReporting Database\r\nThis code imports the results of the DMA to SQL Server database DMAReporting.\r\n\r\n"]},{
  "cell_type": "code",
  "source": [
    "dmaProcessor -processTo SQLServer `\r\n-serverName 'localhost\\dev2017' `\r\n-databaseName DMAReporting `\r\n-jsonDirectory 'C:\\temp\\Results\\' `\r\n-CreateDMAReporting 1 `\r\n-CreateDataWarehouse 0; \r\n; \r\n\r\n"
  ],
  "metadata": {
    "azdata_cell_guid": "54a18de8-3517-4ed3-ab44-666bd3451ed9"
  },
  "outputs": [
    {
      "output_type": "stream",
      "name": "stdout",
      "text": ""
    }
  ]
}
    ]
}
