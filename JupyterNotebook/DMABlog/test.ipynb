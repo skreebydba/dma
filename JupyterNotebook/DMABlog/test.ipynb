{
    "metadata": {
        "kernelspec": {
            "name": "powershell",
            "display_name": "PowerShell"
        },
        "language_info": {
            "name": "powershell",
            "codemirror_mode": "shell",
            "mimetype": "text/x-sh",
            "file_extension": ".ps1"
        }
    },
    "nbformat_minor": 2,
    "nbformat": 4,
    "cells": [
        {
            "cell_type": "markdown",
            "source": [
                "# Header 1\r\n",
                "### Header 3\r\n",
                "Plain text\r\n",
                "\r\n",
                "**Bolded text**\r\n",
                "\r\n",
                "_Italic text_\r\n",
                "\r\n",
                "<mark>Highlighted text</mark>\r\n",
                "\r\n",
                "[This is a link](https://daringfireball.net/projects/markdown/)\r\n",
                "\r\n",
                "- Unordered list #1\r\n",
                "- Unordered list #2\r\n",
                "\r\n",
                "1. Ordered list #1\r\n",
                "2. Ordered list #2\r\n",
                "\r\n",
                ""
            ],
            "metadata": {
                "azdata_cell_guid": "64e44382-bbc9-43e9-a75e-05b526fc95c2"
            }
        },
        {
            "cell_type": "code",
            "source": [
                "$query = \"SELECT @@VERSION\";\r\n",
                "$sqlinstance = \"localhost\\dev2017\"\r\n",
                "$database = \"master\";\r\n",
                "\r\n",
                "Invoke-SqlCmd -ServerInstance $sqlinstance -Database $database -Query $query;"
            ],
            "metadata": {
                "azdata_cell_guid": "cdf8020c-cf1b-474b-bdb4-f16c417013ce"
            },
            "outputs": [
                {
                    "name": "stdout",
                    "text": "\nColumn1                                                                                                                \n-------                                                                                                                \nMicrosoft SQL Server 2017 (RTM-CU16) (KB4508218) - 14.0.3223.3 (X64) ...                                               \n\n\n",
                    "output_type": "stream"
                }
            ],
            "execution_count": 1
        }
    ]
}